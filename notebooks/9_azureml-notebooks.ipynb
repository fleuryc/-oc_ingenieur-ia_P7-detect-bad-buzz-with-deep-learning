{
 "cells": [
  {
   "cell_type": "markdown",
   "metadata": {},
   "source": [
    "# AzureML Studio : Notebooks\n",
    "\n",
    "In this notebook, we will use the AzureML Studio's [Notebooks](https://docs.microsoft.com/en-us/azure/machine-learning/how-to-run-jupyter-notebooks) to design, train, test and deploy our data processing pipeline.\n",
    "\n",
    "The experiment is visible in the AzureML Studio : [oc-p7-notebook](https://ml.azure.com/experiments/id/9f34a051-e669-49cb-afa9-15d346086f63?wsid=/subscriptions/da2e4791-6dd1-422b-848a-a961cef6ab89/resourcegroups/OC_P7/workspaces/oc-p7-ml-workspace&tid=43204f6d-c600-4585-985a-6bafda08d2bb)\n",
    "\n",
    "\n",
    "## Notebook code\n",
    "\n",
    "The code deployed in the Notebooks environment consists of :\n",
    "- [main.ipynb](8_azureml-notebooks/main.ipynb) : this is the main Notebook where our data is prepared, our model is built, trained, deployed and tested\n",
    "  - **Prepare** : prepare the data for our model\n",
    "  - **Train** : we use the best model from [7_keras_neural_networks.ipynb](7_keras_neural_networks.ipynb) : *Stacked Bidirectional-LSTM layers on Embedded text*\n",
    "  - **Deploy** : we deploy the model in an ACI (Azure Compute Instance), which will expose a REST API to query our model for inference\n",
    "  - **Test** : we run a POST query to check that our model works\n",
    "- [score.py](8_azureml-notebooks/score.py) : this is the code deployed in the ACI for inference\n",
    "  - `init()` : load the registered model\n",
    "  - `run(raw_data)` : process data sent to the REST API and predict the sentiment with the loaded model\n",
    "- [conda_dependencies.yml](8_azureml-notebooks/conda_dependencies.yml) : this defines the dependencies that must be installed in the Inference environment\n",
    "\n",
    "\n",
    "## Model training\n",
    "\n",
    "We can observe the model performances while training :\n",
    "\n",
    "![AzureML Notebooks - Results](img/azureml_notebooks_results.png)\n",
    "\n",
    "\n",
    "## Query result\n",
    "\n",
    "We can observe the result of a query to the REST API :\n",
    "\n",
    "![AzureML Notebooks - Query](img/azureml_notebooks_query.png)\n",
    "\n"
   ]
  }
 ],
 "metadata": {
  "language_info": {
   "name": "python"
  },
  "orig_nbformat": 4
 },
 "nbformat": 4,
 "nbformat_minor": 2
}
