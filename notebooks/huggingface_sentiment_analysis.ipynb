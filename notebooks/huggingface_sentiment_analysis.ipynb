{
 "cells": [
  {
   "cell_type": "markdown",
   "metadata": {},
   "source": [
    "# HuggingFace Transformer Pipeline : Sentiment Analysis\n",
    "\n",
    "In this notebook, we will use the pre-trained [HuggingFace's Transformer Pipeline : Sentiment Analysis](https://huggingface.co/docs/transformers/task_summary#sequence-classification) to predict the sentiment of the tweets.\n",
    "\n",
    "We will compare this pre-trained local model to the baseline model from [main.ipynb](main.ipynb)."
   ]
  },
  {
   "cell_type": "markdown",
   "metadata": {},
   "source": [
    "## Load project modules and data\n",
    "\n",
    "We will use basic python packages, and the [HuggingFace](https://huggingface.co/docs/transformers/quicktour) package to predict text sentiment.\n"
   ]
  },
  {
   "cell_type": "code",
   "execution_count": 6,
   "metadata": {},
   "outputs": [],
   "source": [
    "# Import custom helper libraries\n",
    "import os\n",
    "import sys\n",
    "\n",
    "# Maths modules\n",
    "import pandas as pd\n",
    "\n",
    "\n",
    "src_path = os.path.abspath(os.path.join(\"../src\"))\n",
    "if src_path not in sys.path:\n",
    "    sys.path.append(src_path)\n",
    "\n",
    "import data.helpers as data_helpers\n",
    "import visualization.helpers as viz_helpers\n",
    "\n"
   ]
  },
  {
   "cell_type": "code",
   "execution_count": 7,
   "metadata": {},
   "outputs": [
    {
     "name": "stdout",
     "output_type": "stream",
     "text": [
      ">>> Downloading and extracting data files...\n",
      "Data files already downloaded.\n",
      ">>> OK.\n",
      "\n"
     ]
    }
   ],
   "source": [
    "\n",
    "# Download and unzip CSV files\n",
    "!cd .. && make dataset && cd notebooks\n"
   ]
  },
  {
   "cell_type": "code",
   "execution_count": 8,
   "metadata": {},
   "outputs": [
    {
     "data": {
      "text/html": [
       "<div>\n",
       "<style scoped>\n",
       "    .dataframe tbody tr th:only-of-type {\n",
       "        vertical-align: middle;\n",
       "    }\n",
       "\n",
       "    .dataframe tbody tr th {\n",
       "        vertical-align: top;\n",
       "    }\n",
       "\n",
       "    .dataframe thead th {\n",
       "        text-align: right;\n",
       "    }\n",
       "</style>\n",
       "<table border=\"1\" class=\"dataframe\">\n",
       "  <thead>\n",
       "    <tr style=\"text-align: right;\">\n",
       "      <th></th>\n",
       "      <th>target</th>\n",
       "      <th>text</th>\n",
       "    </tr>\n",
       "  </thead>\n",
       "  <tbody>\n",
       "    <tr>\n",
       "      <th>count</th>\n",
       "      <td>1600000</td>\n",
       "      <td>1600000</td>\n",
       "    </tr>\n",
       "    <tr>\n",
       "      <th>unique</th>\n",
       "      <td>2</td>\n",
       "      <td>1581466</td>\n",
       "    </tr>\n",
       "    <tr>\n",
       "      <th>top</th>\n",
       "      <td>NEGATIVE</td>\n",
       "      <td>isPlayer Has Died! Sorry</td>\n",
       "    </tr>\n",
       "    <tr>\n",
       "      <th>freq</th>\n",
       "      <td>800000</td>\n",
       "      <td>210</td>\n",
       "    </tr>\n",
       "  </tbody>\n",
       "</table>\n",
       "</div>"
      ],
      "text/plain": [
       "          target                       text\n",
       "count    1600000                    1600000\n",
       "unique         2                    1581466\n",
       "top     NEGATIVE  isPlayer Has Died! Sorry \n",
       "freq      800000                        210"
      ]
     },
     "execution_count": 8,
     "metadata": {},
     "output_type": "execute_result"
    }
   ],
   "source": [
    "# Load data from CSV\n",
    "df = pd.read_csv(\n",
    "    os.path.join(\n",
    "        \"..\", \"data\", \"raw\", \"training.1600000.processed.noemoticon.csv\"\n",
    "    ),\n",
    "    names=[\"target\", \"id\", \"date\", \"flag\", \"user\", \"text\"],\n",
    ")\n",
    "\n",
    "# Reduce memory usage\n",
    "df = data_helpers.reduce_dataframe_memory_usage(df)\n",
    "\n",
    "# Drop useless columns\n",
    "df.drop(columns=[\"id\", \"date\", \"flag\", \"user\"], inplace=True)\n",
    "\n",
    "# Replace target values with labels\n",
    "df.target.replace(\n",
    "    {\n",
    "        0: \"NEGATIVE\",\n",
    "        2: \"NEUTRAL\",\n",
    "        4: \"POSITIVE\",\n",
    "    },\n",
    "    inplace=True,\n",
    ")\n",
    "\n",
    "df.describe()\n"
   ]
  },
  {
   "cell_type": "markdown",
   "metadata": {},
   "source": [
    "## Classification Model\n",
    "\n",
    "Now we can measure the performance of our model defined in [custom_huggingface_sentiment_analysis_classifier.py](../src/models/custom_huggingface_sentiment_analysis_classifier.py). We are going to use the same metrics as our baseline model defined in [main.ipynb](main.ipynb)."
   ]
  },
  {
   "cell_type": "markdown",
   "metadata": {},
   "source": [
    "### HuggingFace's Transformer Pipeline : Sentiment Analysis model\n",
    "\n",
    "In this model, we will use the pre-trained HuggingFace's Transformer Pipeline Sentiment Analysis to predict the sentiment of the tweets."
   ]
  },
  {
   "cell_type": "code",
   "execution_count": 9,
   "metadata": {},
   "outputs": [
    {
     "name": "stderr",
     "output_type": "stream",
     "text": [
      "No model was supplied, defaulted to distilbert-base-uncased-finetuned-sst-2-english (https://huggingface.co/distilbert-base-uncased-finetuned-sst-2-english)\n",
      "Some layers from the model checkpoint at distilbert-base-uncased-finetuned-sst-2-english were not used when initializing TFDistilBertForSequenceClassification: ['dropout_19']\n",
      "- This IS expected if you are initializing TFDistilBertForSequenceClassification from the checkpoint of a model trained on another task or with another architecture (e.g. initializing a BertForSequenceClassification model from a BertForPreTraining model).\n",
      "- This IS NOT expected if you are initializing TFDistilBertForSequenceClassification from the checkpoint of a model that you expect to be exactly identical (initializing a BertForSequenceClassification model from a BertForSequenceClassification model).\n",
      "Some layers of TFDistilBertForSequenceClassification were not initialized from the model checkpoint at distilbert-base-uncased-finetuned-sst-2-english and are newly initialized: ['dropout_39']\n",
      "You should probably TRAIN this model on a down-stream task to be able to use it for predictions and inference.\n"
     ]
    }
   ],
   "source": [
    "from models.custom_huggingface_sentiment_analysis_classifier import (\n",
    "    CustomHuggingfaceSentimentAnalysisClassifier,\n",
    ")\n",
    "\n",
    "\n",
    "# Initialize Azure Text Analytics classifier\n",
    "cls = CustomHuggingfaceSentimentAnalysisClassifier()\n",
    "\n",
    "cache_json_path = os.path.join(\"..\", \"results\", \"huggingface_cache.json\")\n",
    "if os.path.exists(cache_json_path):\n",
    "    # Load cached results\n",
    "    cls.load_cache_json(filename=cache_json_path)\n",
    "else:\n",
    "    # Compute sentiment scores\n",
    "    cls.fit(X=df.text.values, y=df.target.values)\n",
    "    # Save results to cache\n",
    "    cls.save_cache_json(filename=cache_json_path)\n",
    "\n",
    "# Plot classification performances\n",
    "viz_helpers.plot_classifier_results(\n",
    "    cls,\n",
    "    df.text.values,\n",
    "    df.target.values,\n",
    "    title=\"Classification results\",\n",
    ")\n"
   ]
  },
  {
   "cell_type": "markdown",
   "metadata": {},
   "source": [
    "The performances on the dataset are slightly better than our baseline model : \n",
    "- Average Precision = 0.75 (baseline = 0.73 , +2.7%)\n",
    "- ROC AUC = 0.78 (baseline = 0.74 , +5.4%)\n"
   ]
  },
  {
   "cell_type": "markdown",
   "metadata": {},
   "source": [
    "\n",
    "This model is also biased towards the positive class, but less than our baseline model : it predicted 26% (baseline = 35% , -26%) more _POSITIVE_ (1115) messages than _NEGATIVE_ (885).\n"
   ]
  },
  {
   "cell_type": "code",
   "execution_count": null,
   "metadata": {},
   "outputs": [],
   "source": [
    "# Compute predictions\n",
    "y_pred = model.predict(X)\n",
    "df[\"prediction\"] = y_pred\n"
   ]
  },
  {
   "cell_type": "code",
   "execution_count": null,
   "metadata": {},
   "outputs": [],
   "source": [
    "import shap\n",
    "\n",
    "shap.initjs()\n",
    "\n",
    "explainer = shap.Explainer(cls.classifier)\n"
   ]
  },
  {
   "cell_type": "code",
   "execution_count": null,
   "metadata": {},
   "outputs": [],
   "source": [
    "# False positive example\n",
    "fp_index = df[(df.target == \"NEGATIVE\") & (df.prediction == \"POSITIVE\")].index[0]\n",
    "fp_text = df.text.values[fp_index]\n",
    "\n",
    "shap_values = explainer([fp_text])\n",
    "\n",
    "shap.plots.text(shap_values[0, :, \"POSITIVE\"])"
   ]
  },
  {
   "cell_type": "code",
   "execution_count": null,
   "metadata": {},
   "outputs": [],
   "source": [
    "# False negative example\n",
    "fn_index = df[(df.target == \"POSITIVE\") & (df.prediction == \"NEGATIVE\")].index[0]\n",
    "fn_text = df.text.values[fn_index]\n",
    "\n",
    "shap_values = explainer([fn_text])\n",
    "\n",
    "shap.plots.text(shap_values[0, :, \"POSITIVE\"])"
   ]
  }
 ],
 "metadata": {
  "interpreter": {
   "hash": "985dab4142e640f9d316b4a6ee5dfcc3b3a4782860c49b4d63e46ae9dfb02f20"
  },
  "kernelspec": {
   "display_name": "Python 3.9.7 64-bit ('env': venv)",
   "language": "python",
   "name": "python3"
  },
  "language_info": {
   "codemirror_mode": {
    "name": "ipython",
    "version": 3
   },
   "file_extension": ".py",
   "mimetype": "text/x-python",
   "name": "python",
   "nbconvert_exporter": "python",
   "pygments_lexer": "ipython3",
   "version": "3.9.7"
  },
  "orig_nbformat": 4
 },
 "nbformat": 4,
 "nbformat_minor": 2
}
